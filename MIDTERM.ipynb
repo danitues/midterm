{
 "cells": [
  {
   "cell_type": "code",
   "execution_count": 51,
   "id": "7430e257",
   "metadata": {},
   "outputs": [],
   "source": [
    "import os \n",
    "import pandas as pd\n",
    "import numpy as np\n",
    "import matplotlib.pyplot as plt\n",
    "%matplotlib inline\n",
    "import statsmodels.formula.api as smf\n",
    "\n",
    "from plotnine import *\n",
    "%matplotlib inline"
   ]
  },
  {
   "cell_type": "code",
   "execution_count": 52,
   "id": "a345ffe0",
   "metadata": {},
   "outputs": [
    {
     "data": {
      "text/html": [
       "<div>\n",
       "<style scoped>\n",
       "    .dataframe tbody tr th:only-of-type {\n",
       "        vertical-align: middle;\n",
       "    }\n",
       "\n",
       "    .dataframe tbody tr th {\n",
       "        vertical-align: top;\n",
       "    }\n",
       "\n",
       "    .dataframe thead th {\n",
       "        text-align: right;\n",
       "    }\n",
       "</style>\n",
       "<table border=\"1\" class=\"dataframe\">\n",
       "  <thead>\n",
       "    <tr style=\"text-align: right;\">\n",
       "      <th></th>\n",
       "      <th>S.NO</th>\n",
       "      <th>Name</th>\n",
       "      <th>Nationality</th>\n",
       "      <th>Current Rank</th>\n",
       "      <th>Previous Year Rank</th>\n",
       "      <th>Sport</th>\n",
       "      <th>Year</th>\n",
       "      <th>earnings ($ million)</th>\n",
       "    </tr>\n",
       "  </thead>\n",
       "  <tbody>\n",
       "    <tr>\n",
       "      <th>0</th>\n",
       "      <td>1</td>\n",
       "      <td>Mike Tyson</td>\n",
       "      <td>USA</td>\n",
       "      <td>1</td>\n",
       "      <td>NaN</td>\n",
       "      <td>boxing</td>\n",
       "      <td>1990</td>\n",
       "      <td>28.6</td>\n",
       "    </tr>\n",
       "    <tr>\n",
       "      <th>1</th>\n",
       "      <td>2</td>\n",
       "      <td>Buster Douglas</td>\n",
       "      <td>USA</td>\n",
       "      <td>2</td>\n",
       "      <td>NaN</td>\n",
       "      <td>boxing</td>\n",
       "      <td>1990</td>\n",
       "      <td>26.0</td>\n",
       "    </tr>\n",
       "    <tr>\n",
       "      <th>2</th>\n",
       "      <td>3</td>\n",
       "      <td>Sugar Ray Leonard</td>\n",
       "      <td>USA</td>\n",
       "      <td>3</td>\n",
       "      <td>NaN</td>\n",
       "      <td>boxing</td>\n",
       "      <td>1990</td>\n",
       "      <td>13.0</td>\n",
       "    </tr>\n",
       "    <tr>\n",
       "      <th>3</th>\n",
       "      <td>4</td>\n",
       "      <td>Ayrton Senna</td>\n",
       "      <td>Brazil</td>\n",
       "      <td>4</td>\n",
       "      <td>NaN</td>\n",
       "      <td>auto racing</td>\n",
       "      <td>1990</td>\n",
       "      <td>10.0</td>\n",
       "    </tr>\n",
       "    <tr>\n",
       "      <th>4</th>\n",
       "      <td>5</td>\n",
       "      <td>Alain Prost</td>\n",
       "      <td>France</td>\n",
       "      <td>5</td>\n",
       "      <td>NaN</td>\n",
       "      <td>auto racing</td>\n",
       "      <td>1990</td>\n",
       "      <td>9.0</td>\n",
       "    </tr>\n",
       "  </tbody>\n",
       "</table>\n",
       "</div>"
      ],
      "text/plain": [
       "   S.NO               Name Nationality  Current Rank Previous Year Rank  \\\n",
       "0     1         Mike Tyson         USA             1                NaN   \n",
       "1     2     Buster Douglas         USA             2                NaN   \n",
       "2     3  Sugar Ray Leonard         USA             3                NaN   \n",
       "3     4       Ayrton Senna      Brazil             4                NaN   \n",
       "4     5        Alain Prost      France             5                NaN   \n",
       "\n",
       "         Sport  Year  earnings ($ million)  \n",
       "0       boxing  1990                  28.6  \n",
       "1       boxing  1990                  26.0  \n",
       "2       boxing  1990                  13.0  \n",
       "3  auto racing  1990                  10.0  \n",
       "4  auto racing  1990                   9.0  "
      ]
     },
     "execution_count": 52,
     "metadata": {},
     "output_type": "execute_result"
    }
   ],
   "source": [
    "path= '/Users/tuesti/Downloads/Athletes.csv'\n",
    "df=pd.read_csv(path)\n",
    "df.head()"
   ]
  },
  {
   "cell_type": "code",
   "execution_count": 53,
   "id": "5622d650",
   "metadata": {},
   "outputs": [
    {
     "data": {
      "text/html": [
       "<div>\n",
       "<style scoped>\n",
       "    .dataframe tbody tr th:only-of-type {\n",
       "        vertical-align: middle;\n",
       "    }\n",
       "\n",
       "    .dataframe tbody tr th {\n",
       "        vertical-align: top;\n",
       "    }\n",
       "\n",
       "    .dataframe thead th {\n",
       "        text-align: right;\n",
       "    }\n",
       "</style>\n",
       "<table border=\"1\" class=\"dataframe\">\n",
       "  <thead>\n",
       "    <tr style=\"text-align: right;\">\n",
       "      <th></th>\n",
       "      <th>S.NO</th>\n",
       "      <th>Name</th>\n",
       "      <th>Nationality</th>\n",
       "      <th>Current Rank</th>\n",
       "      <th>Previous Year Rank</th>\n",
       "      <th>Sport</th>\n",
       "      <th>Year</th>\n",
       "      <th>earnings ($ million)</th>\n",
       "    </tr>\n",
       "  </thead>\n",
       "  <tbody>\n",
       "    <tr>\n",
       "      <th>3</th>\n",
       "      <td>4</td>\n",
       "      <td>Ayrton Senna</td>\n",
       "      <td>Brazil</td>\n",
       "      <td>4</td>\n",
       "      <td>NaN</td>\n",
       "      <td>motor racing</td>\n",
       "      <td>1990</td>\n",
       "      <td>10.0</td>\n",
       "    </tr>\n",
       "    <tr>\n",
       "      <th>4</th>\n",
       "      <td>5</td>\n",
       "      <td>Alain Prost</td>\n",
       "      <td>France</td>\n",
       "      <td>5</td>\n",
       "      <td>NaN</td>\n",
       "      <td>motor racing</td>\n",
       "      <td>1990</td>\n",
       "      <td>9.0</td>\n",
       "    </tr>\n",
       "    <tr>\n",
       "      <th>14</th>\n",
       "      <td>15</td>\n",
       "      <td>Ayrton Senna</td>\n",
       "      <td>Brazil</td>\n",
       "      <td>5</td>\n",
       "      <td>4</td>\n",
       "      <td>motor racing</td>\n",
       "      <td>1991</td>\n",
       "      <td>13.0</td>\n",
       "    </tr>\n",
       "    <tr>\n",
       "      <th>15</th>\n",
       "      <td>16</td>\n",
       "      <td>Alain Prost</td>\n",
       "      <td>France</td>\n",
       "      <td>6</td>\n",
       "      <td>5</td>\n",
       "      <td>motor racing</td>\n",
       "      <td>1991</td>\n",
       "      <td>11.0</td>\n",
       "    </tr>\n",
       "    <tr>\n",
       "      <th>18</th>\n",
       "      <td>19</td>\n",
       "      <td>Nigel Mansell</td>\n",
       "      <td>UK</td>\n",
       "      <td>9</td>\n",
       "      <td>12</td>\n",
       "      <td>motor racing</td>\n",
       "      <td>1991</td>\n",
       "      <td>9.0</td>\n",
       "    </tr>\n",
       "  </tbody>\n",
       "</table>\n",
       "</div>"
      ],
      "text/plain": [
       "    S.NO           Name Nationality  Current Rank Previous Year Rank  \\\n",
       "3      4   Ayrton Senna      Brazil             4                NaN   \n",
       "4      5    Alain Prost      France             5                NaN   \n",
       "14    15   Ayrton Senna      Brazil             5                  4   \n",
       "15    16    Alain Prost      France             6                  5   \n",
       "18    19  Nigel Mansell          UK             9                 12   \n",
       "\n",
       "           Sport  Year  earnings ($ million)  \n",
       "3   motor racing  1990                  10.0  \n",
       "4   motor racing  1990                   9.0  \n",
       "14  motor racing  1991                  13.0  \n",
       "15  motor racing  1991                  11.0  \n",
       "18  motor racing  1991                   9.0  "
      ]
     },
     "execution_count": 53,
     "metadata": {},
     "output_type": "execute_result"
    }
   ],
   "source": [
    "# lets try to group together the sports for more simplicity\n",
    "# like adding all racing and Nascar sports together all motor racing \n",
    "\n",
    "df=df.replace('auto racing','motor racing')\n",
    "df=df.replace('auto Racing','motor racing')\n",
    "df=df.replace('auto Racing (Nascar)','motor racing')\n",
    "df=df.replace('F1 Motorsports','motor racing')\n",
    "df=df.replace('F1 racing','motor racing')\n",
    "df=df.replace('motorcycle gp','motor racing')\n",
    "df=df.replace('NADSCAR','motor racing')\n",
    "df.loc[df['Sport']=='motor racing'].head()"
   ]
  },
  {
   "cell_type": "code",
   "execution_count": 54,
   "id": "10572166",
   "metadata": {},
   "outputs": [
    {
     "data": {
      "text/html": [
       "<div>\n",
       "<style scoped>\n",
       "    .dataframe tbody tr th:only-of-type {\n",
       "        vertical-align: middle;\n",
       "    }\n",
       "\n",
       "    .dataframe tbody tr th {\n",
       "        vertical-align: top;\n",
       "    }\n",
       "\n",
       "    .dataframe thead th {\n",
       "        text-align: right;\n",
       "    }\n",
       "</style>\n",
       "<table border=\"1\" class=\"dataframe\">\n",
       "  <thead>\n",
       "    <tr style=\"text-align: right;\">\n",
       "      <th></th>\n",
       "      <th>S.NO</th>\n",
       "      <th>Name</th>\n",
       "      <th>Nationality</th>\n",
       "      <th>Current Rank</th>\n",
       "      <th>Previous Year Rank</th>\n",
       "      <th>Sport</th>\n",
       "      <th>Year</th>\n",
       "      <th>earnings ($ million)</th>\n",
       "    </tr>\n",
       "  </thead>\n",
       "  <tbody>\n",
       "    <tr>\n",
       "      <th>3</th>\n",
       "      <td>4</td>\n",
       "      <td>Ayrton Senna</td>\n",
       "      <td>Brazil</td>\n",
       "      <td>4</td>\n",
       "      <td>NaN</td>\n",
       "      <td>Motor Racing</td>\n",
       "      <td>1990</td>\n",
       "      <td>10.0</td>\n",
       "    </tr>\n",
       "    <tr>\n",
       "      <th>4</th>\n",
       "      <td>5</td>\n",
       "      <td>Alain Prost</td>\n",
       "      <td>France</td>\n",
       "      <td>5</td>\n",
       "      <td>NaN</td>\n",
       "      <td>Motor Racing</td>\n",
       "      <td>1990</td>\n",
       "      <td>9.0</td>\n",
       "    </tr>\n",
       "    <tr>\n",
       "      <th>14</th>\n",
       "      <td>15</td>\n",
       "      <td>Ayrton Senna</td>\n",
       "      <td>Brazil</td>\n",
       "      <td>5</td>\n",
       "      <td>4</td>\n",
       "      <td>Motor Racing</td>\n",
       "      <td>1991</td>\n",
       "      <td>13.0</td>\n",
       "    </tr>\n",
       "    <tr>\n",
       "      <th>15</th>\n",
       "      <td>16</td>\n",
       "      <td>Alain Prost</td>\n",
       "      <td>France</td>\n",
       "      <td>6</td>\n",
       "      <td>5</td>\n",
       "      <td>Motor Racing</td>\n",
       "      <td>1991</td>\n",
       "      <td>11.0</td>\n",
       "    </tr>\n",
       "    <tr>\n",
       "      <th>18</th>\n",
       "      <td>19</td>\n",
       "      <td>Nigel Mansell</td>\n",
       "      <td>UK</td>\n",
       "      <td>9</td>\n",
       "      <td>12</td>\n",
       "      <td>Motor Racing</td>\n",
       "      <td>1991</td>\n",
       "      <td>9.0</td>\n",
       "    </tr>\n",
       "  </tbody>\n",
       "</table>\n",
       "</div>"
      ],
      "text/plain": [
       "    S.NO           Name Nationality  Current Rank Previous Year Rank  \\\n",
       "3      4   Ayrton Senna      Brazil             4                NaN   \n",
       "4      5    Alain Prost      France             5                NaN   \n",
       "14    15   Ayrton Senna      Brazil             5                  4   \n",
       "15    16    Alain Prost      France             6                  5   \n",
       "18    19  Nigel Mansell          UK             9                 12   \n",
       "\n",
       "           Sport  Year  earnings ($ million)  \n",
       "3   Motor Racing  1990                  10.0  \n",
       "4   Motor Racing  1990                   9.0  \n",
       "14  Motor Racing  1991                  13.0  \n",
       "15  Motor Racing  1991                  11.0  \n",
       "18  Motor Racing  1991                   9.0  "
      ]
     },
     "execution_count": 54,
     "metadata": {},
     "output_type": "execute_result"
    }
   ],
   "source": [
    "df=df.replace('motor racing','Motor Racing')\n",
    "df.loc[df['Sport']=='Motor Racing'].head()"
   ]
  },
  {
   "cell_type": "code",
   "execution_count": 55,
   "id": "30a9b67d",
   "metadata": {},
   "outputs": [
    {
     "data": {
      "text/html": [
       "<div>\n",
       "<style scoped>\n",
       "    .dataframe tbody tr th:only-of-type {\n",
       "        vertical-align: middle;\n",
       "    }\n",
       "\n",
       "    .dataframe tbody tr th {\n",
       "        vertical-align: top;\n",
       "    }\n",
       "\n",
       "    .dataframe thead th {\n",
       "        text-align: right;\n",
       "    }\n",
       "</style>\n",
       "<table border=\"1\" class=\"dataframe\">\n",
       "  <thead>\n",
       "    <tr style=\"text-align: right;\">\n",
       "      <th></th>\n",
       "      <th>S.NO</th>\n",
       "      <th>Name</th>\n",
       "      <th>Nationality</th>\n",
       "      <th>Current Rank</th>\n",
       "      <th>Previous Year Rank</th>\n",
       "      <th>Sport</th>\n",
       "      <th>Year</th>\n",
       "      <th>earnings ($ million)</th>\n",
       "    </tr>\n",
       "  </thead>\n",
       "  <tbody>\n",
       "    <tr>\n",
       "      <th>45</th>\n",
       "      <td>46</td>\n",
       "      <td>Wayne Gretzky</td>\n",
       "      <td>Canada</td>\n",
       "      <td>5</td>\n",
       "      <td>22</td>\n",
       "      <td>Other</td>\n",
       "      <td>1994</td>\n",
       "      <td>13.5</td>\n",
       "    </tr>\n",
       "    <tr>\n",
       "      <th>59</th>\n",
       "      <td>60</td>\n",
       "      <td>Wayne Gretzky</td>\n",
       "      <td>Canada</td>\n",
       "      <td>10</td>\n",
       "      <td>5</td>\n",
       "      <td>Other</td>\n",
       "      <td>1995</td>\n",
       "      <td>14.5</td>\n",
       "    </tr>\n",
       "    <tr>\n",
       "      <th>78</th>\n",
       "      <td>79</td>\n",
       "      <td>Joe Sakic</td>\n",
       "      <td>Canada</td>\n",
       "      <td>9</td>\n",
       "      <td>none</td>\n",
       "      <td>Other</td>\n",
       "      <td>1997</td>\n",
       "      <td>17.9</td>\n",
       "    </tr>\n",
       "    <tr>\n",
       "      <th>82</th>\n",
       "      <td>83</td>\n",
       "      <td>Sergei Federov</td>\n",
       "      <td>Russia</td>\n",
       "      <td>3</td>\n",
       "      <td>NaN</td>\n",
       "      <td>Other</td>\n",
       "      <td>1998</td>\n",
       "      <td>29.8</td>\n",
       "    </tr>\n",
       "    <tr>\n",
       "      <th>149</th>\n",
       "      <td>150</td>\n",
       "      <td>Lance Armstrong</td>\n",
       "      <td>USA</td>\n",
       "      <td>9</td>\n",
       "      <td>&gt;10</td>\n",
       "      <td>Other</td>\n",
       "      <td>2005</td>\n",
       "      <td>28.0</td>\n",
       "    </tr>\n",
       "    <tr>\n",
       "      <th>274</th>\n",
       "      <td>275</td>\n",
       "      <td>Conor McGregor</td>\n",
       "      <td>Ireland</td>\n",
       "      <td>4</td>\n",
       "      <td>24</td>\n",
       "      <td>Other</td>\n",
       "      <td>2018</td>\n",
       "      <td>99.0</td>\n",
       "    </tr>\n",
       "  </tbody>\n",
       "</table>\n",
       "</div>"
      ],
      "text/plain": [
       "     S.NO             Name Nationality  Current Rank Previous Year Rank  \\\n",
       "45     46    Wayne Gretzky      Canada             5                 22   \n",
       "59     60    Wayne Gretzky      Canada            10                  5   \n",
       "78     79        Joe Sakic      Canada             9               none   \n",
       "82     83   Sergei Federov      Russia             3                NaN   \n",
       "149   150  Lance Armstrong         USA             9                >10   \n",
       "274   275   Conor McGregor     Ireland             4                 24   \n",
       "\n",
       "     Sport  Year  earnings ($ million)  \n",
       "45   Other  1994                  13.5  \n",
       "59   Other  1995                  14.5  \n",
       "78   Other  1997                  17.9  \n",
       "82   Other  1998                  29.8  \n",
       "149  Other  2005                  28.0  \n",
       "274  Other  2018                  99.0  "
      ]
     },
     "execution_count": 55,
     "metadata": {},
     "output_type": "execute_result"
    }
   ],
   "source": [
    "# oks we did motor racing now lets simplify the rest \n",
    "df=df.replace('baseball','Baseball')\n",
    "df=df.replace('basketball','Basketball')\n",
    "df=df.replace('NBA','Basketball')\n",
    "df=df.replace('NFL','American Football')\n",
    "df=df.replace('boxing','Boxing')\n",
    "df=df.replace('golf','Golf')\n",
    "df=df.replace('soccer','Soccer')\n",
    "df=df.replace('tennis','Tennis')\n",
    "df=df.replace('MMA','Other')\n",
    "df=df.replace('Hockey','Other')\n",
    "df=df.replace('ice hockey','Other')\n",
    "df=df.replace('Ice Hockey','Other')\n",
    "df=df.replace('cycling','Other')\n",
    "df.loc[df['Sport']=='Other']"
   ]
  },
  {
   "cell_type": "code",
   "execution_count": 59,
   "id": "0026b477",
   "metadata": {},
   "outputs": [],
   "source": [
    "df.rename(columns={'earnings ($ million)':'Earnings'}, inplace=True)"
   ]
  },
  {
   "cell_type": "raw",
   "id": "2acdc854",
   "metadata": {},
   "source": [
    "oks now that the data is kind of sort of fixed let's play with some random graphs and see what makes sense!!!"
   ]
  },
  {
   "cell_type": "code",
   "execution_count": 65,
   "id": "23f572f4",
   "metadata": {},
   "outputs": [],
   "source": [
    "import matplotlib as mpl\n",
    "import datetime as dt    "
   ]
  },
  {
   "cell_type": "code",
   "execution_count": 67,
   "id": "06a36dec",
   "metadata": {},
   "outputs": [
    {
     "data": {
      "text/plain": [
       "<AxesSubplot:>"
      ]
     },
     "execution_count": 67,
     "metadata": {},
     "output_type": "execute_result"
    },
    {
     "data": {
      "image/png": "[encoded data removed]",
      "text/plain": [
       "<Figure size 432x288 with 1 Axes>"
      ]
     },
     "metadata": {
      "needs_background": "light"
     },
     "output_type": "display_data"
    }
   ],
   "source": [
    "df.plot()"
   ]
  },
  {
   "cell_type": "code",
   "execution_count": 68,
   "id": "a307ffb1",
   "metadata": {},
   "outputs": [
    {
     "data": {
      "text/plain": [
       "<AxesSubplot:>"
      ]
     },
     "execution_count": 68,
     "metadata": {},
     "output_type": "execute_result"
    },
    {
     "data": {
      "image/png": "[encoded data removed]",
      "text/plain": [
       "<Figure size 432x288 with 1 Axes>"
      ]
     },
     "metadata": {
      "needs_background": "light"
     },
     "output_type": "display_data"
    }
   ],
   "source": [
    "df.plot(y='Earnings')"
   ]
  },
  {
   "cell_type": "markdown",
   "id": "c668765e",
   "metadata": {},
   "source": [
    "FIRSTLY. we can see the huge spike in earnings but wtf are the axises"
   ]
  },
  {
   "cell_type": "code",
   "execution_count": 70,
   "id": "338d2429",
   "metadata": {
    "scrolled": true
   },
   "outputs": [
    {
     "data": {
      "text/plain": [
       "<AxesSubplot:xlabel='Current Rank', ylabel='Earnings'>"
      ]
     },
     "execution_count": 70,
     "metadata": {},
     "output_type": "execute_result"
    },
    {
     "data": {
      "image/png": "[encoded data removed]",
      "text/plain": [
       "<Figure size 432x288 with 1 Axes>"
      ]
     },
     "metadata": {
      "needs_background": "light"
     },
     "output_type": "display_data"
    }
   ],
   "source": [
    "df.plot.scatter('Current Rank', 'Earnings')"
   ]
  },
  {
   "cell_type": "markdown",
   "id": "da6d9a6c",
   "metadata": {},
   "source": [
    "ok so this graph is kind of informative\n",
    "- the first place current rank are slightly higher than those of lower ranks \n",
    "- but one of these pts could be #1 with 10 in the 90s but there could also be a #8 rank in 2020 with 12 \n",
    "- could be more descriptive obvi"
   ]
  },
  {
   "cell_type": "code",
   "execution_count": 71,
   "id": "22d3fa11",
   "metadata": {},
   "outputs": [
    {
     "data": {
      "text/plain": [
       "<AxesSubplot:ylabel='Frequency'>"
      ]
     },
     "execution_count": 71,
     "metadata": {},
     "output_type": "execute_result"
    },
    {
     "data": {
      "image/png": "[encoded data removed]",
      "text/plain": [
       "<Figure size 432x288 with 1 Axes>"
      ]
     },
     "metadata": {
      "needs_background": "light"
     },
     "output_type": "display_data"
    }
   ],
   "source": [
    "df.plot(kind='hist')"
   ]
  },
  {
   "cell_type": "markdown",
   "id": "3a3bc515",
   "metadata": {},
   "source": [
    "an interesting graph could be a histogram illustrating how many athletes from each sport appear in the Forbes list "
   ]
  },
  {
   "cell_type": "markdown",
   "id": "e483b6bd",
   "metadata": {},
   "source": [
    "#### oks I'm gonna try a plot line type thingy that illustrates how the earnings of the Current Ranked #1 Changes every year"
   ]
  },
  {
   "cell_type": "code",
   "execution_count": 87,
   "id": "2c9c0d9d",
   "metadata": {},
   "outputs": [
    {
     "data": {
      "text/html": [
       "<div>\n",
       "<style scoped>\n",
       "    .dataframe tbody tr th:only-of-type {\n",
       "        vertical-align: middle;\n",
       "    }\n",
       "\n",
       "    .dataframe tbody tr th {\n",
       "        vertical-align: top;\n",
       "    }\n",
       "\n",
       "    .dataframe thead th {\n",
       "        text-align: right;\n",
       "    }\n",
       "</style>\n",
       "<table border=\"1\" class=\"dataframe\">\n",
       "  <thead>\n",
       "    <tr style=\"text-align: right;\">\n",
       "      <th></th>\n",
       "      <th>S.NO</th>\n",
       "      <th>Name</th>\n",
       "      <th>Nationality</th>\n",
       "      <th>Current Rank</th>\n",
       "      <th>Previous Year Rank</th>\n",
       "      <th>Sport</th>\n",
       "      <th>Year</th>\n",
       "      <th>Earnings</th>\n",
       "    </tr>\n",
       "  </thead>\n",
       "  <tbody>\n",
       "    <tr>\n",
       "      <th>0</th>\n",
       "      <td>1</td>\n",
       "      <td>Mike Tyson</td>\n",
       "      <td>USA</td>\n",
       "      <td>1</td>\n",
       "      <td>NaN</td>\n",
       "      <td>Boxing</td>\n",
       "      <td>1990</td>\n",
       "      <td>28.6</td>\n",
       "    </tr>\n",
       "    <tr>\n",
       "      <th>10</th>\n",
       "      <td>11</td>\n",
       "      <td>Evander Holyfield</td>\n",
       "      <td>USA</td>\n",
       "      <td>1</td>\n",
       "      <td>8</td>\n",
       "      <td>Boxing</td>\n",
       "      <td>1991</td>\n",
       "      <td>60.5</td>\n",
       "    </tr>\n",
       "    <tr>\n",
       "      <th>20</th>\n",
       "      <td>21</td>\n",
       "      <td>Michael Jordan</td>\n",
       "      <td>USA</td>\n",
       "      <td>1</td>\n",
       "      <td>3</td>\n",
       "      <td>Basketball</td>\n",
       "      <td>1992</td>\n",
       "      <td>35.9</td>\n",
       "    </tr>\n",
       "    <tr>\n",
       "      <th>30</th>\n",
       "      <td>31</td>\n",
       "      <td>Michael Jordan</td>\n",
       "      <td>USA</td>\n",
       "      <td>1</td>\n",
       "      <td>1</td>\n",
       "      <td>Basketball</td>\n",
       "      <td>1993</td>\n",
       "      <td>36.0</td>\n",
       "    </tr>\n",
       "    <tr>\n",
       "      <th>40</th>\n",
       "      <td>41</td>\n",
       "      <td>Michael Jordan</td>\n",
       "      <td>USA</td>\n",
       "      <td>1</td>\n",
       "      <td>1</td>\n",
       "      <td>Basketball</td>\n",
       "      <td>1994</td>\n",
       "      <td>30.0</td>\n",
       "    </tr>\n",
       "  </tbody>\n",
       "</table>\n",
       "</div>"
      ],
      "text/plain": [
       "    S.NO               Name Nationality  Current Rank Previous Year Rank  \\\n",
       "0      1         Mike Tyson         USA             1                NaN   \n",
       "10    11  Evander Holyfield         USA             1                  8   \n",
       "20    21     Michael Jordan         USA             1                  3   \n",
       "30    31     Michael Jordan         USA             1                  1   \n",
       "40    41     Michael Jordan         USA             1                  1   \n",
       "\n",
       "         Sport  Year  Earnings  \n",
       "0       Boxing  1990      28.6  \n",
       "10      Boxing  1991      60.5  \n",
       "20  Basketball  1992      35.9  \n",
       "30  Basketball  1993      36.0  \n",
       "40  Basketball  1994      30.0  "
      ]
     },
     "execution_count": 87,
     "metadata": {},
     "output_type": "execute_result"
    }
   ],
   "source": [
    "NumberUnoAth=df.loc[df['Current Rank']==1]\n",
    "NumberUnoAth.head()"
   ]
  },
  {
   "cell_type": "code",
   "execution_count": null,
   "id": "e866ac49",
   "metadata": {},
   "outputs": [],
   "source": []
  },
  {
   "cell_type": "code",
   "execution_count": 88,
   "id": "3419d897",
   "metadata": {},
   "outputs": [
    {
     "data": {
      "image/png": "[encoded data removed]",
      "text/plain": [
       "<Figure size 640x480 with 1 Axes>"
      ]
     },
     "metadata": {},
     "output_type": "display_data"
    },
    {
     "data": {
      "text/plain": [
       "<ggplot: (8773005287593)>"
      ]
     },
     "execution_count": 88,
     "metadata": {},
     "output_type": "execute_result"
    }
   ],
   "source": [
    "(ggplot(data=NumberUnoAth, mapping=aes(x='Year', y='Earnings'))+\n",
    " geom_line()+theme_bw())"
   ]
  },
  {
   "cell_type": "markdown",
   "id": "a1bbf5ac",
   "metadata": {},
   "source": [
    "- maybe we could try and add multiple lines to see how new and old athletes appear and disapper on the Forbes List \n",
    "- maybe cummalative earnings and each line is a different color for a different sport "
   ]
  },
  {
   "cell_type": "code",
   "execution_count": 98,
   "id": "0161499b",
   "metadata": {},
   "outputs": [
    {
     "data": {
      "text/html": [
       "<div>\n",
       "<style scoped>\n",
       "    .dataframe tbody tr th:only-of-type {\n",
       "        vertical-align: middle;\n",
       "    }\n",
       "\n",
       "    .dataframe tbody tr th {\n",
       "        vertical-align: top;\n",
       "    }\n",
       "\n",
       "    .dataframe thead th {\n",
       "        text-align: right;\n",
       "    }\n",
       "</style>\n",
       "<table border=\"1\" class=\"dataframe\">\n",
       "  <thead>\n",
       "    <tr style=\"text-align: right;\">\n",
       "      <th></th>\n",
       "      <th>S.NO</th>\n",
       "      <th>Name</th>\n",
       "      <th>Nationality</th>\n",
       "      <th>Current Rank</th>\n",
       "      <th>Previous Year Rank</th>\n",
       "      <th>Sport</th>\n",
       "      <th>Year</th>\n",
       "      <th>Earnings</th>\n",
       "    </tr>\n",
       "  </thead>\n",
       "  <tbody>\n",
       "    <tr>\n",
       "      <th>262</th>\n",
       "      <td>263</td>\n",
       "      <td>LeBron James</td>\n",
       "      <td>USA</td>\n",
       "      <td>2</td>\n",
       "      <td>3</td>\n",
       "      <td>Basketball</td>\n",
       "      <td>2017</td>\n",
       "      <td>86.2</td>\n",
       "    </tr>\n",
       "    <tr>\n",
       "      <th>265</th>\n",
       "      <td>266</td>\n",
       "      <td>Kevin Durant</td>\n",
       "      <td>USA</td>\n",
       "      <td>5</td>\n",
       "      <td>5</td>\n",
       "      <td>Basketball</td>\n",
       "      <td>2017</td>\n",
       "      <td>60.6</td>\n",
       "    </tr>\n",
       "    <tr>\n",
       "      <th>268</th>\n",
       "      <td>269</td>\n",
       "      <td>Stephen Curry</td>\n",
       "      <td>USA</td>\n",
       "      <td>8</td>\n",
       "      <td>NaN</td>\n",
       "      <td>Basketball</td>\n",
       "      <td>2017</td>\n",
       "      <td>47.3</td>\n",
       "    </tr>\n",
       "    <tr>\n",
       "      <th>269</th>\n",
       "      <td>270</td>\n",
       "      <td>James Harden</td>\n",
       "      <td>USA</td>\n",
       "      <td>9</td>\n",
       "      <td>NaN</td>\n",
       "      <td>Basketball</td>\n",
       "      <td>2017</td>\n",
       "      <td>46.6</td>\n",
       "    </tr>\n",
       "  </tbody>\n",
       "</table>\n",
       "</div>"
      ],
      "text/plain": [
       "     S.NO           Name Nationality  Current Rank Previous Year Rank  \\\n",
       "262   263   LeBron James         USA             2                  3   \n",
       "265   266   Kevin Durant         USA             5                  5   \n",
       "268   269  Stephen Curry         USA             8                NaN   \n",
       "269   270   James Harden         USA             9                NaN   \n",
       "\n",
       "          Sport  Year  Earnings  \n",
       "262  Basketball  2017      86.2  \n",
       "265  Basketball  2017      60.6  \n",
       "268  Basketball  2017      47.3  \n",
       "269  Basketball  2017      46.6  "
      ]
     },
     "execution_count": 98,
     "metadata": {},
     "output_type": "execute_result"
    }
   ],
   "source": [
    "dfBasket=df.loc[df['Sport']=='Basketball']\n",
    "Basket2017=dfBasket.loc[df['Year']==2017]\n",
    "Basket2017"
   ]
  },
  {
   "cell_type": "code",
   "execution_count": 110,
   "id": "952fd37e",
   "metadata": {},
   "outputs": [],
   "source": [
    "df2017=df.loc[df['Year']==2017]"
   ]
  },
  {
   "cell_type": "code",
   "execution_count": null,
   "id": "857944ab",
   "metadata": {},
   "outputs": [],
   "source": []
  },
  {
   "cell_type": "code",
   "execution_count": 151,
   "id": "18c38ff8",
   "metadata": {},
   "outputs": [
    {
     "data": {
      "image/png": "[encoded data removed]",
      "text/plain": [
       "<Figure size 640x480 with 1 Axes>"
      ]
     },
     "metadata": {},
     "output_type": "display_data"
    },
    {
     "data": {
      "text/plain": [
       "<ggplot: (8773007396654)>"
      ]
     },
     "execution_count": 151,
     "metadata": {},
     "output_type": "execute_result"
    }
   ],
   "source": [
    "#geom bar?\n",
    "(ggplot(data=df2017, mapping=aes(x='Sport', y='Earnings',color='Sport'))+\n",
    "geom_bar(stat='identity')+\n",
    "ggtitle('Cummalative Earnings in 2017'))"
   ]
  },
  {
   "cell_type": "code",
   "execution_count": 152,
   "id": "8a6fe234",
   "metadata": {},
   "outputs": [],
   "source": [
    "ranges=df.agg([\"min\", \"max\"])\n",
    "\n",
    "ylims= tuple(ranges['Earnings'])"
   ]
  },
  {
   "cell_type": "code",
   "execution_count": 153,
   "id": "35743a76",
   "metadata": {},
   "outputs": [],
   "source": [
    "# let's make a function that illustrates the cummalative earnings of \n",
    "# each sport for each year \n",
    "\n",
    "def sportearningsumyearly( year, \n",
    "              ylims=ylims):\n",
    "    dfplot=df.loc[df['Year']==year]\n",
    "    \n",
    "    p=(ggplot(data=dfplot, mapping=aes(x='Sport', y='Earnings', color='Sport'))+\n",
    "geom_bar(stat='identity')+\n",
    "ggtitle(f\"Cumulative Earnings in year {str(year)}\") +\n",
    "    \n",
    "    theme_bw()\n",
    "    \n",
    "    )\n",
    "    \n",
    "    return (p)\n",
    "    \n",
    "    \n"
   ]
  },
  {
   "cell_type": "code",
   "execution_count": 154,
   "id": "39556695",
   "metadata": {
    "scrolled": true
   },
   "outputs": [
    {
     "data": {
      "image/png": "[encoded data removed]",
      "text/plain": [
       "<Figure size 640x480 with 1 Axes>"
      ]
     },
     "metadata": {},
     "output_type": "display_data"
    },
    {
     "data": {
      "text/plain": [
       "<ggplot: (8773007805684)>"
      ]
     },
     "execution_count": 154,
     "metadata": {},
     "output_type": "execute_result"
    }
   ],
   "source": [
    "sportearningsumyearly(year=2017)"
   ]
  },
  {
   "cell_type": "code",
   "execution_count": 155,
   "id": "b4b1d472",
   "metadata": {},
   "outputs": [
    {
     "data": {
      "image/png": "[encoded data removed]",
      "text/plain": [
       "<Figure size 640x480 with 1 Axes>"
      ]
     },
     "metadata": {},
     "output_type": "display_data"
    },
    {
     "data": {
      "text/plain": [
       "<ggplot: (8773007227362)>"
      ]
     },
     "execution_count": 155,
     "metadata": {},
     "output_type": "execute_result"
    }
   ],
   "source": [
    "sportearningsumyearly(year=2020)"
   ]
  },
  {
   "cell_type": "code",
   "execution_count": 156,
   "id": "eb655309",
   "metadata": {},
   "outputs": [],
   "source": [
    "years=df['Year'].unique().tolist()"
   ]
  },
  {
   "cell_type": "code",
   "execution_count": 175,
   "id": "602437c6",
   "metadata": {},
   "outputs": [
    {
     "name": "stderr",
     "output_type": "stream",
     "text": [
      "/opt/anaconda3/lib/python3.8/site-packages/plotnine/ggplot.py:719: PlotnineWarning: Saving 6.4 x 4.8 in image.\n",
      "/opt/anaconda3/lib/python3.8/site-packages/plotnine/ggplot.py:722: PlotnineWarning: Filename: anigapminder1990.png\n",
      "/opt/anaconda3/lib/python3.8/site-packages/plotnine/ggplot.py:719: PlotnineWarning: Saving 6.4 x 4.8 in image.\n",
      "/opt/anaconda3/lib/python3.8/site-packages/plotnine/ggplot.py:722: PlotnineWarning: Filename: anigapminder1991.png\n",
      "/opt/anaconda3/lib/python3.8/site-packages/plotnine/ggplot.py:719: PlotnineWarning: Saving 6.4 x 4.8 in image.\n",
      "/opt/anaconda3/lib/python3.8/site-packages/plotnine/ggplot.py:722: PlotnineWarning: Filename: anigapminder1992.png\n",
      "/opt/anaconda3/lib/python3.8/site-packages/plotnine/ggplot.py:719: PlotnineWarning: Saving 6.4 x 4.8 in image.\n",
      "/opt/anaconda3/lib/python3.8/site-packages/plotnine/ggplot.py:722: PlotnineWarning: Filename: anigapminder1993.png\n",
      "/opt/anaconda3/lib/python3.8/site-packages/plotnine/ggplot.py:719: PlotnineWarning: Saving 6.4 x 4.8 in image.\n",
      "/opt/anaconda3/lib/python3.8/site-packages/plotnine/ggplot.py:722: PlotnineWarning: Filename: anigapminder1994.png\n",
      "/opt/anaconda3/lib/python3.8/site-packages/plotnine/ggplot.py:719: PlotnineWarning: Saving 6.4 x 4.8 in image.\n",
      "/opt/anaconda3/lib/python3.8/site-packages/plotnine/ggplot.py:722: PlotnineWarning: Filename: anigapminder1995.png\n",
      "/opt/anaconda3/lib/python3.8/site-packages/plotnine/ggplot.py:719: PlotnineWarning: Saving 6.4 x 4.8 in image.\n",
      "/opt/anaconda3/lib/python3.8/site-packages/plotnine/ggplot.py:722: PlotnineWarning: Filename: anigapminder1996.png\n",
      "/opt/anaconda3/lib/python3.8/site-packages/plotnine/ggplot.py:719: PlotnineWarning: Saving 6.4 x 4.8 in image.\n",
      "/opt/anaconda3/lib/python3.8/site-packages/plotnine/ggplot.py:722: PlotnineWarning: Filename: anigapminder1997.png\n",
      "/opt/anaconda3/lib/python3.8/site-packages/plotnine/ggplot.py:719: PlotnineWarning: Saving 6.4 x 4.8 in image.\n",
      "/opt/anaconda3/lib/python3.8/site-packages/plotnine/ggplot.py:722: PlotnineWarning: Filename: anigapminder1998.png\n",
      "/opt/anaconda3/lib/python3.8/site-packages/plotnine/ggplot.py:719: PlotnineWarning: Saving 6.4 x 4.8 in image.\n",
      "/opt/anaconda3/lib/python3.8/site-packages/plotnine/ggplot.py:722: PlotnineWarning: Filename: anigapminder1999.png\n",
      "/opt/anaconda3/lib/python3.8/site-packages/plotnine/ggplot.py:719: PlotnineWarning: Saving 6.4 x 4.8 in image.\n",
      "/opt/anaconda3/lib/python3.8/site-packages/plotnine/ggplot.py:722: PlotnineWarning: Filename: anigapminder2000.png\n",
      "/opt/anaconda3/lib/python3.8/site-packages/plotnine/ggplot.py:719: PlotnineWarning: Saving 6.4 x 4.8 in image.\n",
      "/opt/anaconda3/lib/python3.8/site-packages/plotnine/ggplot.py:722: PlotnineWarning: Filename: anigapminder2002.png\n",
      "/opt/anaconda3/lib/python3.8/site-packages/plotnine/ggplot.py:719: PlotnineWarning: Saving 6.4 x 4.8 in image.\n",
      "/opt/anaconda3/lib/python3.8/site-packages/plotnine/ggplot.py:722: PlotnineWarning: Filename: anigapminder2003.png\n",
      "/opt/anaconda3/lib/python3.8/site-packages/plotnine/ggplot.py:719: PlotnineWarning: Saving 6.4 x 4.8 in image.\n",
      "/opt/anaconda3/lib/python3.8/site-packages/plotnine/ggplot.py:722: PlotnineWarning: Filename: anigapminder2004.png\n",
      "/opt/anaconda3/lib/python3.8/site-packages/plotnine/ggplot.py:719: PlotnineWarning: Saving 6.4 x 4.8 in image.\n",
      "/opt/anaconda3/lib/python3.8/site-packages/plotnine/ggplot.py:722: PlotnineWarning: Filename: anigapminder2005.png\n",
      "/opt/anaconda3/lib/python3.8/site-packages/plotnine/ggplot.py:719: PlotnineWarning: Saving 6.4 x 4.8 in image.\n",
      "/opt/anaconda3/lib/python3.8/site-packages/plotnine/ggplot.py:722: PlotnineWarning: Filename: anigapminder2006.png\n",
      "/opt/anaconda3/lib/python3.8/site-packages/plotnine/ggplot.py:719: PlotnineWarning: Saving 6.4 x 4.8 in image.\n",
      "/opt/anaconda3/lib/python3.8/site-packages/plotnine/ggplot.py:722: PlotnineWarning: Filename: anigapminder2007.png\n",
      "/opt/anaconda3/lib/python3.8/site-packages/plotnine/ggplot.py:719: PlotnineWarning: Saving 6.4 x 4.8 in image.\n",
      "/opt/anaconda3/lib/python3.8/site-packages/plotnine/ggplot.py:722: PlotnineWarning: Filename: anigapminder2008.png\n",
      "/opt/anaconda3/lib/python3.8/site-packages/plotnine/ggplot.py:719: PlotnineWarning: Saving 6.4 x 4.8 in image.\n",
      "/opt/anaconda3/lib/python3.8/site-packages/plotnine/ggplot.py:722: PlotnineWarning: Filename: anigapminder2009.png\n",
      "/opt/anaconda3/lib/python3.8/site-packages/plotnine/ggplot.py:719: PlotnineWarning: Saving 6.4 x 4.8 in image.\n",
      "/opt/anaconda3/lib/python3.8/site-packages/plotnine/ggplot.py:722: PlotnineWarning: Filename: anigapminder2010.png\n",
      "/opt/anaconda3/lib/python3.8/site-packages/plotnine/ggplot.py:719: PlotnineWarning: Saving 6.4 x 4.8 in image.\n",
      "/opt/anaconda3/lib/python3.8/site-packages/plotnine/ggplot.py:722: PlotnineWarning: Filename: anigapminder2011.png\n",
      "/opt/anaconda3/lib/python3.8/site-packages/plotnine/ggplot.py:719: PlotnineWarning: Saving 6.4 x 4.8 in image.\n",
      "/opt/anaconda3/lib/python3.8/site-packages/plotnine/ggplot.py:722: PlotnineWarning: Filename: anigapminder2012.png\n",
      "/opt/anaconda3/lib/python3.8/site-packages/plotnine/ggplot.py:719: PlotnineWarning: Saving 6.4 x 4.8 in image.\n",
      "/opt/anaconda3/lib/python3.8/site-packages/plotnine/ggplot.py:722: PlotnineWarning: Filename: anigapminder2013.png\n",
      "/opt/anaconda3/lib/python3.8/site-packages/plotnine/ggplot.py:719: PlotnineWarning: Saving 6.4 x 4.8 in image.\n",
      "/opt/anaconda3/lib/python3.8/site-packages/plotnine/ggplot.py:722: PlotnineWarning: Filename: anigapminder2014.png\n",
      "/opt/anaconda3/lib/python3.8/site-packages/plotnine/ggplot.py:719: PlotnineWarning: Saving 6.4 x 4.8 in image.\n",
      "/opt/anaconda3/lib/python3.8/site-packages/plotnine/ggplot.py:722: PlotnineWarning: Filename: anigapminder2015.png\n",
      "/opt/anaconda3/lib/python3.8/site-packages/plotnine/ggplot.py:719: PlotnineWarning: Saving 6.4 x 4.8 in image.\n",
      "/opt/anaconda3/lib/python3.8/site-packages/plotnine/ggplot.py:722: PlotnineWarning: Filename: anigapminder2016.png\n",
      "/opt/anaconda3/lib/python3.8/site-packages/plotnine/ggplot.py:719: PlotnineWarning: Saving 6.4 x 4.8 in image.\n",
      "/opt/anaconda3/lib/python3.8/site-packages/plotnine/ggplot.py:722: PlotnineWarning: Filename: anigapminder2017.png\n",
      "/opt/anaconda3/lib/python3.8/site-packages/plotnine/ggplot.py:719: PlotnineWarning: Saving 6.4 x 4.8 in image.\n",
      "/opt/anaconda3/lib/python3.8/site-packages/plotnine/ggplot.py:722: PlotnineWarning: Filename: anigapminder2018.png\n",
      "/opt/anaconda3/lib/python3.8/site-packages/plotnine/ggplot.py:719: PlotnineWarning: Saving 6.4 x 4.8 in image.\n",
      "/opt/anaconda3/lib/python3.8/site-packages/plotnine/ggplot.py:722: PlotnineWarning: Filename: anigapminder2019.png\n",
      "/opt/anaconda3/lib/python3.8/site-packages/plotnine/ggplot.py:719: PlotnineWarning: Saving 6.4 x 4.8 in image.\n",
      "/opt/anaconda3/lib/python3.8/site-packages/plotnine/ggplot.py:722: PlotnineWarning: Filename: anigapminder2020.png\n"
     ]
    }
   ],
   "source": [
    "for k in years:\n",
    "    sportearningsumyearly(year=k).save(f\"anigapminder{str(k)}.png\")"
   ]
  },
  {
   "cell_type": "code",
   "execution_count": 176,
   "id": "78a09c75",
   "metadata": {},
   "outputs": [],
   "source": [
    "import imageio as io\n",
    "import os"
   ]
  },
  {
   "cell_type": "code",
   "execution_count": 177,
   "id": "8d1f472b",
   "metadata": {},
   "outputs": [
    {
     "data": {
      "text/plain": [
       "['anigapminder1990.png',\n",
       " 'anigapminder1991.png',\n",
       " 'anigapminder1992.png',\n",
       " 'anigapminder1993.png',\n",
       " 'anigapminder1994.png',\n",
       " 'anigapminder1995.png',\n",
       " 'anigapminder1996.png',\n",
       " 'anigapminder1997.png',\n",
       " 'anigapminder1998.png',\n",
       " 'anigapminder1999.png',\n",
       " 'anigapminder2000.png',\n",
       " 'anigapminder2002.png',\n",
       " 'anigapminder2003.png',\n",
       " 'anigapminder2004.png',\n",
       " 'anigapminder2005.png',\n",
       " 'anigapminder2006.png',\n",
       " 'anigapminder2007.png',\n",
       " 'anigapminder2008.png',\n",
       " 'anigapminder2009.png',\n",
       " 'anigapminder2010.png',\n",
       " 'anigapminder2011.png',\n",
       " 'anigapminder2012.png',\n",
       " 'anigapminder2013.png',\n",
       " 'anigapminder2014.png',\n",
       " 'anigapminder2015.png',\n",
       " 'anigapminder2016.png',\n",
       " 'anigapminder2017.png',\n",
       " 'anigapminder2018.png',\n",
       " 'anigapminder2019.png',\n",
       " 'anigapminder2020.png']"
      ]
     },
     "execution_count": 177,
     "metadata": {},
     "output_type": "execute_result"
    }
   ],
   "source": [
    "file_names = sorted((fn for fn in os.listdir('.') if fn.startswith('anigapminder')))\n",
    "file_names"
   ]
  },
  {
   "cell_type": "code",
   "execution_count": 178,
   "id": "7a66561c",
   "metadata": {},
   "outputs": [],
   "source": [
    "with io.get_writer('gapminder.gif', mode='I', duration=0.5) as writer:\n",
    "    for filename in file_names:\n",
    "        image = io.imread(filename)\n",
    "        writer.append_data(image)\n",
    "writer.close()"
   ]
  },
  {
   "cell_type": "code",
   "execution_count": null,
   "id": "ab23739f",
   "metadata": {},
   "outputs": [],
   "source": [
    "def plotmaker( year, \n",
    "              ylims=ylims,\n",
    "              xlims=xlims, \n",
    "              size_lims=size_lims):\n",
    "    dfplot=gapminder.loc[gapminder['year']==year]\n",
    "\n",
    "\n",
    "    p=(ggplot(data=dfplot, mapping=aes(x='gdpPercap', y='lifeExp',\n",
    "                                 color='continent',size='pop')) +\n",
    "       #the dots\n",
    "            geom_point(alpha = 0.5)+\n",
    "       \n",
    "       #we make sure that all of our axes and dots stay within the limits we set\n",
    "    scale_size(range = [0.1, 30], limits = size_lims)+\n",
    "       scale_x_log10(limits = xlims, minor_breaks = [])+\n",
    "       scale_y_continuous(limits = ylims)+\n",
    "     \n",
    "       #The theme\n",
    "     theme_bw()+\n",
    "       \n",
    "       #The text!\n",
    "    geom_text(aes(x='gdpPercap', y='lifeExp', label='country'),\n",
    "             color='black', size=12,\n",
    "             data=dfplot.loc[(dfplot['country']=='Nigeria')|\n",
    "                            (dfplot['country']=='United States')|\n",
    "                            (dfplot['pop']>1e8)\n",
    "                            ]   \n",
    "             )+\n",
    "       \n",
    "       #The title\n",
    "     ggtitle(f\"Gapminder for year {str(year)}\")+  \n",
    "       \n",
    "       #The x axis!\n",
    "     xlab('GDP per capita')+\n",
    "       \n",
    "       #The y axis!\n",
    "     ylab('Life Expectancy')\n",
    "\n",
    "    )\n",
    "    \n",
    "    return(p)"
   ]
  },
  {
   "cell_type": "code",
   "execution_count": null,
   "id": "19b25e41",
   "metadata": {},
   "outputs": [],
   "source": [
    "CummulativeSpoEarn="
   ]
  },
  {
   "cell_type": "code",
   "execution_count": null,
   "id": "2f6230cd",
   "metadata": {},
   "outputs": [],
   "source": [
    "ranges=gapminder.agg([\"min\", \"max\"])\n",
    "\n",
    "ylims= tuple(ranges['lifeExp'])\n",
    "xlims= tuple(ranges['gdpPercap'])\n",
    "size_lims = tuple(ranges[\"pop\"])\n",
    "\n",
    "def plotmaker( year, \n",
    "              ylims=ylims,\n",
    "              xlims=xlims, \n",
    "              size_lims=size_lims):\n",
    "    dfplot=gapminder.loc[gapminder['year']==year]"
   ]
  }
 ],
 "metadata": {
  "kernelspec": {
   "display_name": "Python 3",
   "language": "python",
   "name": "python3"
  },
  "language_info": {
   "codemirror_mode": {
    "name": "ipython",
    "version": 3
   },
   "file_extension": ".py",
   "mimetype": "text/x-python",
   "name": "python",
   "nbconvert_exporter": "python",
   "pygments_lexer": "ipython3",
   "version": "3.8.8"
  }
 },
 "nbformat": 4,
 "nbformat_minor": 5
}
